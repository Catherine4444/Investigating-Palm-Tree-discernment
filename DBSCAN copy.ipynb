{
 "cells": [
  {
   "cell_type": "code",
   "execution_count": null,
   "metadata": {},
   "outputs": [],
   "source": [
    "# DBSCAN clustering \n",
    "import numpy as np\n",
    "from sklearn.cluster import  DBSCAN\n",
    "from sklearn.metrics import confusion_matrix, f1_score, normalized_mutual_info_score, precision_score, recall_score\n",
    "import pandas as pd\n",
    "import timeit\n",
    "import matplotlib.pyplot as plt\n",
    "import os "
   ]
  },
  {
   "cell_type": "code",
   "execution_count": null,
   "metadata": {},
   "outputs": [],
   "source": [
    "# the method specifies key to make sure the ground truth set is in consistent order as the valeus accessed \n",
    "def ground_truth_set(key):\n",
    "    ground_truth = []\n",
    "    for item in key:\n",
    "        if \"Palm\" in item: \n",
    "            ground_truth.append(1)\n",
    "        else:\n",
    "            ground_truth.append(0)\n",
    "    \n",
    "    return np.array(ground_truth)\n",
    "\n",
    "def data_set(key, dict):\n",
    "    data = []\n",
    "    for item in key:\n",
    "        data.append(dict[item])\n",
    "    return np.array(data)\n",
    "\n",
    "def get_truth_and_data(fileName):\n",
    "    dict = np.load(fileName, allow_pickle=True).item()\n",
    "    dict_keys = dict.keys()\n",
    "    ground_truth = ground_truth_set(dict_keys)\n",
    "    data_values = data_set(dict_keys, dict)\n",
    "\n",
    "    return ground_truth, data_values\n",
    "\n",
    "def accuracy(truth, pred):\n",
    "    tn, fp, fn, tp = confusion_matrix(truth, pred, labels=[0,1]).ravel()\n",
    "    return (tn+tp)/ (tn+ fp+ fn+ tp)\n",
    "\n",
    "def three_d_accuracy(truth, pred):\n",
    "    matrix1 = confusion_matrix(truth, pred, labels=[-1,0,1])\n",
    "    \n",
    "    trues1 = matrix1[0][0]+matrix1[1][1]+matrix1[2][2]\n",
    "    accuracy_percent1 = trues1/len(truth)\n",
    "\n",
    "    #see if swapped around is better \n",
    "    mapping = {-1:-1, 0: 1, 1: 0}\n",
    "    # Reassign the labels using the mapping\n",
    "    new_pred = np.array([mapping[label] for label in pred])\n",
    "\n",
    "    matrix2 = confusion_matrix(truth, new_pred, labels=[-1,0,1])\n",
    "    \n",
    "    trues2 = matrix2[0][0]+matrix2[1][1]+matrix2[2][2]\n",
    "    accuracy_percent2 = trues2/len(truth)\n",
    "\n",
    "    if (accuracy_percent1 > accuracy_percent2):\n",
    "        print(matrix1)\n",
    "        # print(\"1. \", accuracy_percent1)\n",
    "        return accuracy_percent1\n",
    "    # print(\"2. \", accuracy_percent2)\n",
    "    print(matrix2)\n",
    "    return accuracy_percent2\n"
   ]
  },
  {
   "cell_type": "code",
   "execution_count": null,
   "metadata": {},
   "outputs": [],
   "source": [
    "glcm_truth_n , glcm_data_n  =  get_truth_and_data('GLCM_n.npy')\n",
    "glcm_truth , glcm_data  =  get_truth_and_data('GLCM.npy')\n",
    "\n",
    "hist_truth_n, hist_data_n =  get_truth_and_data('hist_n.npy')\n",
    "hist_truth, hist_data =  get_truth_and_data('hist.npy')\n",
    "\n",
    "hog_truth_n, hog_data_n =  get_truth_and_data('hog_n.npy')\n",
    "hog_truth, hog_data =  get_truth_and_data('hog.npy')\n",
    "\n",
    "lbp_truth_n, lbp_data_n =  get_truth_and_data('lbp_n.npy')\n",
    "lbp_truth, lbp_data =  get_truth_and_data('lbp.npy')"
   ]
  },
  {
   "cell_type": "code",
   "execution_count": null,
   "metadata": {},
   "outputs": [],
   "source": [
    "print(np.sum(lbp_truth == 0)) # 14.7%\n",
    "print(np.sum(lbp_truth == 0))"
   ]
  },
  {
   "cell_type": "code",
   "execution_count": null,
   "metadata": {},
   "outputs": [],
   "source": [
    "def dbscan_labels(e, dataset):\n",
    "    minpt = int(len(dataset)*0.025)\n",
    "    print(\"chosen minpt is 0.1 of sample size \", minpt)\n",
    "    print(\"the chosen eps: \", e)\n",
    "    dbscan = DBSCAN(eps = e, min_samples=minpt)\n",
    "    labels = dbscan.fit_predict(dataset)\n",
    "    labels = np.array(labels)\n",
    "    unique = np.unique(labels)\n",
    "    result = np.sum(labels == -1)\n",
    "    print(\"The unique labels are: \", unique)\n",
    "    print(\"the amount of noisy samples are: \", result)\n",
    "    return labels\n",
    "from sklearn.neighbors import NearestNeighbors\n",
    "\n",
    "def knn_plot(data):\n",
    "    nn = int(len(data)*0.025)-1\n",
    "    neighbors = NearestNeighbors(n_neighbors=nn)\n",
    "    neighbors_fit = neighbors.fit(data)\n",
    "    distances, indices = neighbors_fit.kneighbors(data)\n",
    "\n",
    "    distances = np.sort(distances[:, -1])  # Get the distances to the 4th nearest neighbor\n",
    "\n",
    "    plt.plot(distances)\n",
    "    plt.xlabel(\"Points sorted by distance\")\n",
    "    plt.ylabel(\"Distance to 4th nearest neighbor\")\n",
    "    plt.title(\"k-NN Distance Plot\")\n",
    "    plt.show()\n",
    "\n",
    "def experiment(e, truth, data):\n",
    "    labels = dbscan_labels(e, data)\n",
    "    precision = precision_score(truth, labels, labels = [0,1], average = 'weighted')\n",
    "    recall = recall_score(truth, labels, labels = [0,1], average = 'weighted')\n",
    "    f1 = f1_score(truth, labels, labels = [0,1], average = 'weighted')\n",
    "    return precision, recall, f1 \n",
    "\n",
    "import csv \n",
    "def record_results(e, truth, data, dict, name, experi =\"dbscan\"): \n",
    "    precision, recall, f1 = experiment(e, truth,data)\n",
    "    if name not in dict:\n",
    "        dict[name] = [precision, recall, f1]\n",
    "\n",
    "    if not os.path.exists(f\"results_{experi}/{name}.csv\"):\n",
    "        with open(f\"results_{experi}/{name}.csv\", 'w', newline='') as file:\n",
    "            writer = csv.writer(file)\n",
    "            writer.writerow((\"precision\",\"recall\", \"f1\"))\n",
    "            writer.writerow((precision, recall, f1))\n",
    "    else:\n",
    "        with open(f\"results_{experi}/{name}.csv\", 'a', newline='') as file:\n",
    "            writer = csv.writer(file)\n",
    "            writer.writerow((precision, recall, f1)) \n",
    "    \n",
    "    print(name)\n",
    "    if dict[name][0] <= precision:\n",
    "        dict[name][0] = precision\n",
    "    else:\n",
    "        print(\"max precision: \", dict[name][0])\n",
    "\n",
    "    if dict[name][1] <= recall:\n",
    "        dict[name][1] = recall\n",
    "    else:\n",
    "        print(\"max recall: \", dict[name][0])\n",
    "\n",
    "    if dict[name][2] <= f1:\n",
    "        dict[name][2] = f1\n",
    "    else:\n",
    "        print(\"max f1 : \", dict[name][2])\n",
    "    \n",
    "    print(\"f1 : \", f1 , \"\\nprecision: \", precision,\"\\nrecall: \", recall)\n",
    "    \n",
    "\n",
    "def experiment_eps(title, eps_array, truth, dataset):\n",
    "    print(title)\n",
    "    for i in eps_array:\n",
    "        labels = dbscan_labels(i, dataset)\n",
    "        arr = np.array(labels)\n",
    "        unique = np.unique(labels)\n",
    "        result = np.sum(arr == -1)\n",
    "        \n",
    "        if(len(unique) == 3 or len(unique) == 2 or len(unique) == 4 or len(unique) == 5):\n",
    "            f1 = f1_score(truth, labels, labels = [0,1], average = 'weighted')\n",
    "            print(\"F1 score: \", f1)\n",
    "            # print(\"accuracy: \", three_d_accuracy(truth, labels))\n",
    "        print()\n",
    "\n"
   ]
  },
  {
   "cell_type": "code",
   "execution_count": 5,
   "metadata": {},
   "outputs": [
    {
     "data": {
      "image/png": "[encoded data removed]",
      "text/plain": [
       "<Figure size 640x480 with 1 Axes>"
      ]
     },
     "metadata": {},
     "output_type": "display_data"
    }
   ],
   "source": [
    "knn_plot(hog_data_n)"
   ]
  },
  {
   "cell_type": "code",
   "execution_count": null,
   "metadata": {},
   "outputs": [],
   "source": [
    "arr = np.linspace(4.81, 4.9, num=10) # results from 3 minpoints \n",
    "experiment_eps(\"hog n data\", arr, hog_truth_n, hog_data_n)\n",
    "\n",
    "# chosen minpt is 0.1 of sample size  66\n",
    "# the chosen eps:  4.81\n",
    "# The unique labels are:  [-1  0  1]\n",
    "# the amount of noisy samples are:  1593\n",
    "# F1 score:  0.028622279390097045\n"
   ]
  },
  {
   "cell_type": "code",
   "execution_count": null,
   "metadata": {},
   "outputs": [],
   "source": [
    "knn_plot(hog_data)"
   ]
  },
  {
   "cell_type": "code",
   "execution_count": null,
   "metadata": {},
   "outputs": [],
   "source": [
    "arr = np.linspace(3.251, 3.26, num=10)\n",
    "\n",
    "experiment_eps(\"hog data\", arr, hog_truth, hog_data)\n",
    "\n",
    "# chosen minpt is 0.1 of sample size  66\n",
    "# the chosen eps:  3.259\n",
    "# The unique labels are:  [-1  0  1]\n",
    "# the amount of noisy samples are:  2370\n",
    "# F1 score:  0.09413519100886412\n"
   ]
  },
  {
   "cell_type": "code",
   "execution_count": null,
   "metadata": {},
   "outputs": [],
   "source": [
    "knn_plot(glcm_data_n)"
   ]
  },
  {
   "cell_type": "code",
   "execution_count": null,
   "metadata": {},
   "outputs": [],
   "source": [
    "arr = np.linspace(0.071, 0.09, num=20)\n",
    "experiment_eps(\"glcm n data\", arr, glcm_truth_n , glcm_data_n)\n",
    "\n",
    "# chosen minpt is 0.1 of sample size  66\n",
    "# the chosen eps:  0.076\n",
    "# The unique labels are:  [-1  0  1]\n",
    "# the amount of noisy samples are:  2514\n",
    "# F1 score:  0.04726882976564941\n"
   ]
  },
  {
   "cell_type": "code",
   "execution_count": null,
   "metadata": {},
   "outputs": [],
   "source": [
    "knn_plot(glcm_data)"
   ]
  },
  {
   "cell_type": "code",
   "execution_count": null,
   "metadata": {},
   "outputs": [],
   "source": [
    "arr = np.linspace(291,295, num=10)\n",
    "experiment_eps(\"glcm data\", arr, glcm_truth , glcm_data)\n",
    "\n",
    "# chosen minpt is 0.1 of sample size  66\n",
    "# the chosen eps:  294.1111111111111\n",
    "# The unique labels are:  [-1  0  1]\n",
    "# the amount of noisy samples are:  1729\n",
    "# F1 score:  0.1045771853001049\n"
   ]
  },
  {
   "cell_type": "code",
   "execution_count": null,
   "metadata": {},
   "outputs": [],
   "source": [
    "knn_plot(hist_data_n)"
   ]
  },
  {
   "cell_type": "code",
   "execution_count": null,
   "metadata": {},
   "outputs": [],
   "source": [
    "#arr = np.linspace(201,400, num=200)\n",
    "arr = np.linspace(0.01,4, num=40)\n",
    "experiment_eps(\"hist n data\", arr, hist_truth_n, hist_data_n)\n",
    "\n",
    "# chosen minpt is 0.1 of sample size  66\n",
    "# the chosen eps:  1.34\n",
    "# The unique labels are:  [-1  0  1]\n",
    "# the amount of noisy samples are:  74\n",
    "# F1 score:  0.6974513447274793"
   ]
  },
  {
   "cell_type": "code",
   "execution_count": null,
   "metadata": {},
   "outputs": [],
   "source": [
    "knn_plot(hist_data)"
   ]
  },
  {
   "cell_type": "code",
   "execution_count": null,
   "metadata": {},
   "outputs": [],
   "source": [
    "arr = np.linspace(0.0041,0.005, num=10)\n",
    "experiment_eps(\"hist data\", arr, hist_truth, hist_data)\n",
    "\n",
    "# chosen minpt is 0.1 of sample size  66\n",
    "# the chosen eps:  0.004200000000000001\n",
    "# The unique labels are:  [-1  0  1]\n",
    "# the amount of noisy samples are:  2295\n",
    "# F1 score:  0.04244043330528836\n"
   ]
  },
  {
   "cell_type": "code",
   "execution_count": null,
   "metadata": {},
   "outputs": [],
   "source": [
    "knn_plot(lbp_data)"
   ]
  },
  {
   "cell_type": "code",
   "execution_count": null,
   "metadata": {},
   "outputs": [],
   "source": [
    "arr = np.linspace(0.002,0.011, num=10)\n",
    "experiment_eps(\"lbp data\", arr, lbp_truth, lbp_data)\n",
    "\n",
    "# chosen minpt is 0.1 of sample size  66\n",
    "# the chosen eps:  0.01\n",
    "# The unique labels are:  [-1  0  1]\n",
    "# the amount of noisy samples are:  2525\n",
    "# F1 score:  0.05038290304924796"
   ]
  },
  {
   "cell_type": "code",
   "execution_count": null,
   "metadata": {},
   "outputs": [],
   "source": [
    "knn_plot(lbp_data_n)"
   ]
  },
  {
   "cell_type": "code",
   "execution_count": null,
   "metadata": {},
   "outputs": [],
   "source": [
    "arr = np.linspace(0.0096,0.01, num=100)\n",
    "arr = [0.009701, 0.009702, 0.009703, 0.009704, 0.009705, 0.009706, 0.009707, 0.009708]\n",
    "experiment_eps(\"lbp data\", arr, lbp_truth_n, lbp_data_n)\n",
    "\n",
    "# chosen minpt is 0.1 of sample size  66\n",
    "# the chosen eps:  0.0097010101010101\n",
    "# The unique labels are:  [-1  0  1]\n",
    "# the amount of noisy samples are:  2535\n",
    "# F1 score:  0.038449183583668375\n",
    "\n",
    "# chosen minpt is 0.1 of sample size  66\n",
    "# the chosen eps:  0.00971\n",
    "# The unique labels are:  [-1  0  1]\n",
    "# the amount of noisy samples are:  2535\n",
    "# F1 score:  0.03772670069896626\n",
    "\n",
    "\n",
    "# chosen minpt is 0.1 of sample size  66\n",
    "# the chosen eps:  0.00974\n",
    "# The unique labels are:  [-1  0  1]\n",
    "# the amount of noisy samples are:  2534\n",
    "# F1 score:  0.03772232242870149\n",
    "\n",
    "\n",
    "# chosen minpt is 0.1 of sample size  66\n",
    "# the chosen eps:  0.009749494949494949\n",
    "# The unique labels are:  [-1  0  1]\n",
    "# the amount of noisy samples are:  2533\n",
    "# F1 score:  0.03844040552829722\n",
    "\n",
    "\n",
    "\n",
    "# chosen minpt is 0.1 of sample size  66\n",
    "# the chosen eps:  0.00975\n",
    "# The unique labels are:  [-1  0  1]\n",
    "# the amount of noisy samples are:  2518\n",
    "# F1 score:  0.04914017133210346\n",
    "\n"
   ]
  },
  {
   "cell_type": "code",
   "execution_count": null,
   "metadata": {},
   "outputs": [],
   "source": [
    "p_r_f1 ={}"
   ]
  },
  {
   "cell_type": "code",
   "execution_count": null,
   "metadata": {},
   "outputs": [],
   "source": [
    "# official min points \n",
    "record_results(4.81, hog_truth_n , hog_data_n,  p_r_f1,   \"hog_n\" )\n",
    "record_results(3.259, hog_truth , hog_data,  p_r_f1,   \"hog\" )\n",
    "\n",
    "record_results(0.076, glcm_truth_n , glcm_data_n,  p_r_f1,   \"glcm_n\" )\n",
    "record_results(294, glcm_truth , glcm_data,  p_r_f1,   \"glcm\" )\n",
    "\n",
    "record_results(1.34, hist_truth_n , hist_data_n,  p_r_f1,   \"hist_n\" )\n",
    "record_results(0.042, hist_truth , hist_data,  p_r_f1,   \"hist\" )\n",
    "\n",
    "\n",
    "record_results(0.01, lbp_truth , lbp_data,  p_r_f1,   \"lbp\" )\n",
    "record_results( 0.00975, lbp_truth_n , lbp_data_n,  p_r_f1,   \"lbp_n\" )"
   ]
  },
  {
   "cell_type": "code",
   "execution_count": null,
   "metadata": {},
   "outputs": [],
   "source": [
    "# results from minpt at 3 \n",
    "record_results(3.655, hog_truth , hog_data,  p_r_f1,   \"hog\" )\n",
    "record_results(3.78, hog_truth_n , hog_data_n,  p_r_f1,   \"hog_n\" )\n",
    "record_results(613.5, glcm_truth , glcm_data,  p_r_f1,   \"glcm\" )\n",
    "record_results(0.05, glcm_truth_n , glcm_data_n,  p_r_f1,   \"glcm_n\" )\n",
    "record_results(374, hist_truth_n , hist_data_n,  p_r_f1,   \"hist_n\" )\n",
    "record_results(373, hist_truth , hist_data,  p_r_f1,   \"hist\" )\n",
    "record_results(0.01789, lbp_truth , lbp_data,  p_r_f1,   \"lbp\" )\n",
    "\n",
    "# lbp\n",
    "# f1 :  0.03706204445867489 \n",
    "# precision:  0.5898159177581467 \n",
    "# recall:  0.14234330756868446\n",
    "\n",
    "#record_results( , lbp_truth_n , lbp_data_n,  p_r_f1,   \"lbp_n\" )"
   ]
  },
  {
   "cell_type": "code",
   "execution_count": null,
   "metadata": {},
   "outputs": [],
   "source": []
  },
  {
   "cell_type": "code",
   "execution_count": null,
   "metadata": {},
   "outputs": [],
   "source": [
    "record_results(306, glcm_truth , glcm_data,  p_r_f1,   \"glcm\" )"
   ]
  },
  {
   "cell_type": "code",
   "execution_count": null,
   "metadata": {},
   "outputs": [],
   "source": [
    "# appendix section \n",
    "record_results(306, glcm_truth , glcm_data,  p_r_f1,   \"glcm\" )\n",
    "record_results(3, hist_truth_n , hist_data_n,  p_r_f1,   \"hist_n\" )\n",
    "\n",
    "\n",
    "record_results(4.81, hog_truth_n , hog_data_n,  p_r_f1,   \"hog_n\" )\n",
    "record_results(3.259, hog_truth , hog_data,  p_r_f1,   \"hog\" )\n",
    "\n",
    "record_results(0.076, glcm_truth_n , glcm_data_n,  p_r_f1,   \"glcm_n\" )\n",
    "\n",
    "\n",
    "record_results(373, hist_truth , hist_data,  p_r_f1,   \"hist\" )\n",
    "record_results(0.01789, lbp_truth , lbp_data,  p_r_f1,   \"lbp\" )\n",
    "record_results( 0, lbp_truth_n , lbp_data_n,  p_r_f1,   \"lbp_n\" )"
   ]
  }
 ],
 "metadata": {
  "kernelspec": {
   "display_name": "Python 3",
   "language": "python",
   "name": "python3"
  },
  "language_info": {
   "codemirror_mode": {
    "name": "ipython",
    "version": 3
   },
   "file_extension": ".py",
   "mimetype": "text/x-python",
   "name": "python",
   "nbconvert_exporter": "python",
   "pygments_lexer": "ipython3",
   "version": "3.12.4"
  }
 },
 "nbformat": 4,
 "nbformat_minor": 2
}
