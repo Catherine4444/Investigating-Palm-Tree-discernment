{
 "cells": [
  {
   "cell_type": "code",
   "execution_count": 2,
   "metadata": {},
   "outputs": [],
   "source": [
    "install = False\n",
    "if install:\n",
    "    !pip3 install --upgrade matplotlib\n",
    "    !pip3 install --upgrade scikit-image\n",
    "    !pip3 install --upgrade opencv-python\n",
    "\n",
    "import numpy as np\n",
    "import cv2 \n",
    "import os \n",
    "import glob\n",
    "import skimage\n",
    "from skimage.feature import graycomatrix, graycoprops\n",
    "import matplotlib.pyplot as plt "
   ]
  },
  {
   "cell_type": "code",
   "execution_count": 3,
   "metadata": {},
   "outputs": [],
   "source": [
    "image = cv2.imread(\"/Users/catherineli/Library/CloudStorage/OneDrive-UniversityofCapeTown/2.CSC2005Z/code-related/singleTree/test/ck2euxc9kxgvm07486g2d5pid_0_2492_267_2848_Palm.jpg\", flags = cv2.IMREAD_GRAYSCALE)\n",
    "imageN =cv2.imread(\"/Users/catherineli/Library/CloudStorage/OneDrive-UniversityofCapeTown/2.CSC2005Z/code-related/singleTree/test/norm/ck2euxc9kxgvm07486g2d5pid_0_2492_267_2848_Palm.jpg\", flags = cv2.IMREAD_GRAYSCALE)\n",
    "\n",
    "tree_im = cv2.imread(\"/Users/catherineli/Library/CloudStorage/OneDrive-UniversityofCapeTown/2.CSC2005Z/code-related/singleTree/test/ck2euxc9kxgvm07486g2d5pid_33_1251_339_1622_Tree.jpg\", flags = cv2.IMREAD_GRAYSCALE)\n",
    "tree_imN = cv2.imread(\"/Users/catherineli/Library/CloudStorage/OneDrive-UniversityofCapeTown/2.CSC2005Z/code-related/singleTree/test/norm/ck2euxc9kxgvm07486g2d5pid_33_1251_339_1622_Tree.jpg\", flags = cv2.IMREAD_GRAYSCALE)"
   ]
  },
  {
   "cell_type": "code",
   "execution_count": 4,
   "metadata": {},
   "outputs": [],
   "source": [
    "# chosen offset relations : \n",
    "\n",
    "def GLCM_feature(image):\n",
    "    dist = [[1],[2]]\n",
    "    ang = [[0],[0.785398],[1.5708]] # in radians, but 0, 45 and 90 degrees \n",
    "\n",
    "    feature = np.array([])\n",
    "    for i in dist:\n",
    "        for j in ang:\n",
    "            glcm = graycomatrix(image, distances=i, angles=j, levels=256, symmetric=False, normed=True)\n",
    "            # contrast based \n",
    "            feature = np.append(graycoprops(glcm, 'dissimilarity'),feature)\n",
    "            feature = np.append(feature,graycoprops(glcm, 'contrast')[0, 0])\n",
    "            feature = np.append(feature,graycoprops(glcm, 'homogeneity')[0, 0])\n",
    "\n",
    "            # orderliness based \n",
    "            feature = np.append(feature,graycoprops(glcm, 'ASM')[0, 0])\n",
    "            feature = np.append(feature,graycoprops(glcm, 'energy')[0, 0])\n",
    "            feature = np.append(feature,graycoprops(glcm, 'correlation')[0, 0])\n",
    "            \n",
    "            #statistically based : none \n",
    "\n",
    "    return feature\n",
    "\n",
    "# Store all the feature vectors into dictionary\n",
    "# takes in the directory of the single trees \n",
    "# returns a dictionary of GLCM features \n",
    "def extractGLCM(srcDir):\n",
    "    \n",
    "    glcm_dict = {}\n",
    "    im_paths = glob.glob(srcDir+\"*.j*\" )\n",
    "    len_dir = len(srcDir)\n",
    "    # print(len_dir)\n",
    "    \n",
    "    # for each tree extract GLCM feature \n",
    "    for im_path in im_paths:\n",
    "        \n",
    "        image = cv2.imread(im_path, flags = cv2.IMREAD_GRAYSCALE)\n",
    "            \n",
    "        # find name of corresponding image (watch out if file name has a .j in other places)\n",
    "        dot_index = im_path.find(\".j\")\n",
    "        im_name = im_path[len_dir:dot_index]\n",
    "        # print(im_name)\n",
    "        np_glcm= GLCM_feature(image)\n",
    "        # print(np_GLCM)\n",
    "        glcm_dict[im_name] = np_glcm\n",
    "\n",
    "    return glcm_dict\n",
    "\n"
   ]
  },
  {
   "cell_type": "code",
   "execution_count": 5,
   "metadata": {},
   "outputs": [
    {
     "name": "stdout",
     "output_type": "stream",
     "text": [
      "2669\n",
      "10398\n"
     ]
    }
   ],
   "source": [
    "generateFeatures = True\n",
    "if generateFeatures:\n",
    "    GLCM_dict_test = extractGLCM(\"/Users/catherineli/Library/CloudStorage/OneDrive-UniversityofCapeTown/2.CSC2005Z/code-related/singleTree/test/\")\n",
    "    print(len(GLCM_dict_test))\n",
    "    GLCM_dict_testN = extractGLCM(\"/Users/catherineli/Library/CloudStorage/OneDrive-UniversityofCapeTown/2.CSC2005Z/code-related/singleTree/test/norm/\")\n",
    "\n",
    "    GLCM_dict_train = extractGLCM(\"/Users/catherineli/Library/CloudStorage/OneDrive-UniversityofCapeTown/2.CSC2005Z/code-related/singleTree/train/\")\n",
    "    print(len(GLCM_dict_train))\n",
    "    GLCM_dict_trainN = extractGLCM(\"/Users/catherineli/Library/CloudStorage/OneDrive-UniversityofCapeTown/2.CSC2005Z/code-related/singleTree/train/norm/\")\n",
    "    \n",
    "    np.save('GLCM_test.npy', GLCM_dict_test)\n",
    "    np.save('GLCM_testN.npy', GLCM_dict_testN)\n",
    "    \n",
    "    np.save('GLCM_train.npy', GLCM_dict_train)\n",
    "    np.save('GLCM_trainN.npy', GLCM_dict_trainN)\n",
    "\n",
    "    dict_glcm = GLCM_dict_train | GLCM_dict_test\n",
    "    dict_glcm_n = GLCM_dict_trainN | GLCM_dict_testN\n",
    "\n",
    "    np.save('glcm.npy', dict_glcm)\n",
    "    np.save('glcm_n.npy', dict_glcm_n)\n"
   ]
  },
  {
   "cell_type": "code",
   "execution_count": 6,
   "metadata": {},
   "outputs": [
    {
     "name": "stdout",
     "output_type": "stream",
     "text": [
      "36\n"
     ]
    }
   ],
   "source": [
    "print(len(GLCM_dict_test[\"ck2euxc9kxgvm07486g2d5pid_0_2492_267_2848_Palm\"]))\n"
   ]
  }
 ],
 "metadata": {
  "kernelspec": {
   "display_name": "Python 3",
   "language": "python",
   "name": "python3"
  },
  "language_info": {
   "codemirror_mode": {
    "name": "ipython",
    "version": 3
   },
   "file_extension": ".py",
   "mimetype": "text/x-python",
   "name": "python",
   "nbconvert_exporter": "python",
   "pygments_lexer": "ipython3",
   "version": "3.12.4"
  }
 },
 "nbformat": 4,
 "nbformat_minor": 2
}
