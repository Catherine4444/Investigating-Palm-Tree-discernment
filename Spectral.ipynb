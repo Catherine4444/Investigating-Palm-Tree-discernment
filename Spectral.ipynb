{
 "cells": [
  {
   "cell_type": "code",
   "execution_count": null,
   "metadata": {},
   "outputs": [],
   "source": [
    "# Spectral clustering \n",
    "import numpy as np\n",
    "from sklearn.cluster import  SpectralClustering\n",
    "from sklearn.metrics import confusion_matrix, f1_score, normalized_mutual_info_score, precision_score, recall_score\n",
    "import pandas as pd\n",
    "import timeit\n",
    "import matplotlib as plt"
   ]
  },
  {
   "cell_type": "code",
   "execution_count": null,
   "metadata": {},
   "outputs": [],
   "source": [
    "# the method specifies key to make sure the ground truth set is in consistent order as the valeus accessed \n",
    "def ground_truth_set(key):\n",
    "\n",
    "    ground_truth = []\n",
    "    for item in key:\n",
    "        if \"Palm\" in item: \n",
    "            ground_truth.append(1)\n",
    "        else:\n",
    "            ground_truth.append(0)\n",
    "    \n",
    "    return np.array(ground_truth)\n",
    "\n",
    "def data_set(key, dict):\n",
    "    data = []\n",
    "    for item in key:\n",
    "        data.append(dict[item])\n",
    "    return np.array(data)\n",
    "\n",
    "def get_truth_and_data(fileName):\n",
    "    dict = np.load(fileName, allow_pickle=True).item()\n",
    "    dict_keys = dict.keys()\n",
    "    ground_truth = ground_truth_set(dict_keys)\n",
    "    data_values = data_set(dict_keys, dict)\n",
    "\n",
    "    return ground_truth, data_values\n",
    "\n",
    "def accuracy(truth, pred):\n",
    "    tn, fp, fn, tp = confusion_matrix(truth, pred).ravel()\n",
    "    return (tn+tp)/ (tn+ fp+ fn+ tp)\n"
   ]
  },
  {
   "cell_type": "code",
   "execution_count": null,
   "metadata": {},
   "outputs": [],
   "source": [
    "p_r_f1 = {}"
   ]
  },
  {
   "cell_type": "code",
   "execution_count": null,
   "metadata": {},
   "outputs": [],
   "source": [
    "def experiment(truth, data):\n",
    "    spectral_estimator = SpectralClustering(n_clusters = 2)\n",
    "    labels = spectral_estimator.fit_predict(data)\n",
    "    \n",
    "    precision = precision_score(truth, labels, labels = [0,1], average = 'weighted')\n",
    "    recall = recall_score(truth, labels, labels = [0,1], average = 'weighted')\n",
    "    f1 = f1_score(truth, labels, labels = [0,1], average = 'weighted')\n",
    "    return precision, recall, f1 "
   ]
  },
  {
   "cell_type": "code",
   "execution_count": null,
   "metadata": {},
   "outputs": [],
   "source": [
    "import csv \n",
    "import os \n",
    "def record_results(truth, data, dict, name, experi =\"spectral\"): \n",
    "    precision, recall, f1 = experiment(truth,data)\n",
    "    if name not in dict:\n",
    "        dict[name] = [precision, recall, f1]\n",
    "\n",
    "    if not os.path.exists(f\"results_{experi}/{name}.csv\"):\n",
    "        with open(f\"results_{experi}/{name}.csv\", 'w', newline='') as file:\n",
    "            writer = csv.writer(file)\n",
    "            writer.writerow((\"precision\",\"recall\", \"f1\"))\n",
    "            writer.writerow((precision, recall, f1))\n",
    "    else:\n",
    "        with open(f\"results_{experi}/{name}.csv\", 'a', newline='') as file:\n",
    "            writer = csv.writer(file)\n",
    "            writer.writerow((precision, recall, f1)) \n",
    "    \n",
    "    print(name)\n",
    "    \n",
    "    if dict[name][0] <= precision:\n",
    "        dict[name][0] = precision\n",
    "    else:\n",
    "        print(\"max precision: \", dict[name][0])\n",
    "\n",
    "    if dict[name][1] <= recall:\n",
    "        dict[name][1] = recall\n",
    "    else:\n",
    "        print(\"max recall: \", dict[name][0])\n",
    "\n",
    "    if dict[name][2] <= f1:\n",
    "        dict[name][2] = f1\n",
    "    else:\n",
    "        print(\"max f1 : \", dict[name][2])\n",
    "    \n",
    "    print(\"f1 : \", f1 , \"\\nprecision: \", precision,\"\\nrecall: \", recall) "
   ]
  },
  {
   "cell_type": "code",
   "execution_count": null,
   "metadata": {},
   "outputs": [],
   "source": [
    "glcm_truth_n , glcm_data_n  =  get_truth_and_data('GLCM_n.npy')\n",
    "glcm_truth , glcm_data  =  get_truth_and_data('GLCM.npy')\n",
    "\n",
    "hist_truth_n, hist_data_n =  get_truth_and_data('hist_n.npy')\n",
    "hist_truth, hist_data =  get_truth_and_data('hist.npy')\n",
    "\n",
    "hog_truth_n, hog_data_n =  get_truth_and_data('hog_n.npy')\n",
    "hog_truth, hog_data =  get_truth_and_data('hog.npy')\n",
    "\n",
    "lbp_truth, lbp_data =  get_truth_and_data('lbp.npy')\n",
    "lbp_truth_n, lbp_data_n =  get_truth_and_data('lbp_n.npy')"
   ]
  },
  {
   "cell_type": "code",
   "execution_count": null,
   "metadata": {},
   "outputs": [],
   "source": [
    "for i in range(10):\n",
    "    record_results(glcm_truth_n , glcm_data_n,  p_r_f1,   \"glcm_n\" )\n",
    "    record_results(glcm_truth , glcm_data,  p_r_f1,   \"glcm\" )\n",
    "    record_results(hog_truth , hog_data,  p_r_f1,   \"hog\" )\n",
    "    record_results(hist_truth , hist_data,  p_r_f1,   \"hist\" )\n",
    "    record_results(lbp_truth , lbp_data,  p_r_f1,   \"lbp\" )\n",
    "    record_results(lbp_truth_n , lbp_data_n,  p_r_f1,   \"lbp_n\" )\n",
    "#49min 11.2s\n"
   ]
  },
  {
   "cell_type": "code",
   "execution_count": 34,
   "metadata": {},
   "outputs": [
    {
     "ename": "KeyboardInterrupt",
     "evalue": "",
     "output_type": "error",
     "traceback": [
      "\u001b[0;31m---------------------------------------------------------------------------\u001b[0m",
      "\u001b[0;31mKeyboardInterrupt\u001b[0m                         Traceback (most recent call last)",
      "\u001b[1;32m/Users/catherineli/Library/CloudStorage/OneDrive-UniversityofCapeTown/2.CSC2005Z/code-related/Spectral.ipynb Cell 8\u001b[0m line \u001b[0;36m2\n\u001b[1;32m      <a href='vscode-notebook-cell:/Users/catherineli/Library/CloudStorage/OneDrive-UniversityofCapeTown/2.CSC2005Z/code-related/Spectral.ipynb#X50sZmlsZQ%3D%3D?line=0'>1</a>\u001b[0m \u001b[39mfor\u001b[39;00m i \u001b[39min\u001b[39;00m \u001b[39mrange\u001b[39m (\u001b[39m3\u001b[39m):\n\u001b[0;32m----> <a href='vscode-notebook-cell:/Users/catherineli/Library/CloudStorage/OneDrive-UniversityofCapeTown/2.CSC2005Z/code-related/Spectral.ipynb#X50sZmlsZQ%3D%3D?line=1'>2</a>\u001b[0m     record_results(hog_truth_n , hog_data_n, p_r_f1, \u001b[39m\"\u001b[39;49m\u001b[39mhog_n\u001b[39;49m\u001b[39m\"\u001b[39;49m )\n\u001b[1;32m      <a href='vscode-notebook-cell:/Users/catherineli/Library/CloudStorage/OneDrive-UniversityofCapeTown/2.CSC2005Z/code-related/Spectral.ipynb#X50sZmlsZQ%3D%3D?line=2'>3</a>\u001b[0m \u001b[39m# 115m 59.4s\u001b[39;00m\n\u001b[1;32m      <a href='vscode-notebook-cell:/Users/catherineli/Library/CloudStorage/OneDrive-UniversityofCapeTown/2.CSC2005Z/code-related/Spectral.ipynb#X50sZmlsZQ%3D%3D?line=3'>4</a>\u001b[0m \n\u001b[1;32m      <a href='vscode-notebook-cell:/Users/catherineli/Library/CloudStorage/OneDrive-UniversityofCapeTown/2.CSC2005Z/code-related/Spectral.ipynb#X50sZmlsZQ%3D%3D?line=4'>5</a>\u001b[0m \u001b[39m# more than 748m for two results \u001b[39;00m\n\u001b[1;32m      <a href='vscode-notebook-cell:/Users/catherineli/Library/CloudStorage/OneDrive-UniversityofCapeTown/2.CSC2005Z/code-related/Spectral.ipynb#X50sZmlsZQ%3D%3D?line=5'>6</a>\u001b[0m \u001b[39m# f1 :  0.7167622554453932 \u001b[39;00m\n\u001b[1;32m      <a href='vscode-notebook-cell:/Users/catherineli/Library/CloudStorage/OneDrive-UniversityofCapeTown/2.CSC2005Z/code-related/Spectral.ipynb#X50sZmlsZQ%3D%3D?line=6'>7</a>\u001b[0m \u001b[39m# precision:  0.8164723191982974 \u001b[39;00m\n\u001b[1;32m      <a href='vscode-notebook-cell:/Users/catherineli/Library/CloudStorage/OneDrive-UniversityofCapeTown/2.CSC2005Z/code-related/Spectral.ipynb#X50sZmlsZQ%3D%3D?line=7'>8</a>\u001b[0m \u001b[39m# recall:  0.6706206474324634\u001b[39;00m\n",
      "\u001b[1;32m/Users/catherineli/Library/CloudStorage/OneDrive-UniversityofCapeTown/2.CSC2005Z/code-related/Spectral.ipynb Cell 8\u001b[0m line \u001b[0;36m4\n\u001b[1;32m      <a href='vscode-notebook-cell:/Users/catherineli/Library/CloudStorage/OneDrive-UniversityofCapeTown/2.CSC2005Z/code-related/Spectral.ipynb#X50sZmlsZQ%3D%3D?line=2'>3</a>\u001b[0m \u001b[39mdef\u001b[39;00m \u001b[39mrecord_results\u001b[39m(truth, data, \u001b[39mdict\u001b[39m, name, experi \u001b[39m=\u001b[39m\u001b[39m\"\u001b[39m\u001b[39mspectral\u001b[39m\u001b[39m\"\u001b[39m): \n\u001b[0;32m----> <a href='vscode-notebook-cell:/Users/catherineli/Library/CloudStorage/OneDrive-UniversityofCapeTown/2.CSC2005Z/code-related/Spectral.ipynb#X50sZmlsZQ%3D%3D?line=3'>4</a>\u001b[0m     precision, recall, f1 \u001b[39m=\u001b[39m experiment(truth,data)\n\u001b[1;32m      <a href='vscode-notebook-cell:/Users/catherineli/Library/CloudStorage/OneDrive-UniversityofCapeTown/2.CSC2005Z/code-related/Spectral.ipynb#X50sZmlsZQ%3D%3D?line=4'>5</a>\u001b[0m     \u001b[39mif\u001b[39;00m name \u001b[39mnot\u001b[39;00m \u001b[39min\u001b[39;00m \u001b[39mdict\u001b[39m:\n\u001b[1;32m      <a href='vscode-notebook-cell:/Users/catherineli/Library/CloudStorage/OneDrive-UniversityofCapeTown/2.CSC2005Z/code-related/Spectral.ipynb#X50sZmlsZQ%3D%3D?line=5'>6</a>\u001b[0m         \u001b[39mdict\u001b[39m[name] \u001b[39m=\u001b[39m [precision, recall, f1]\n",
      "\u001b[1;32m/Users/catherineli/Library/CloudStorage/OneDrive-UniversityofCapeTown/2.CSC2005Z/code-related/Spectral.ipynb Cell 8\u001b[0m line \u001b[0;36m3\n\u001b[1;32m      <a href='vscode-notebook-cell:/Users/catherineli/Library/CloudStorage/OneDrive-UniversityofCapeTown/2.CSC2005Z/code-related/Spectral.ipynb#X50sZmlsZQ%3D%3D?line=0'>1</a>\u001b[0m \u001b[39mdef\u001b[39;00m \u001b[39mexperiment\u001b[39m(truth, data):\n\u001b[1;32m      <a href='vscode-notebook-cell:/Users/catherineli/Library/CloudStorage/OneDrive-UniversityofCapeTown/2.CSC2005Z/code-related/Spectral.ipynb#X50sZmlsZQ%3D%3D?line=1'>2</a>\u001b[0m     spectral_estimator \u001b[39m=\u001b[39m SpectralClustering(n_clusters \u001b[39m=\u001b[39m \u001b[39m2\u001b[39m)\n\u001b[0;32m----> <a href='vscode-notebook-cell:/Users/catherineli/Library/CloudStorage/OneDrive-UniversityofCapeTown/2.CSC2005Z/code-related/Spectral.ipynb#X50sZmlsZQ%3D%3D?line=2'>3</a>\u001b[0m     labels \u001b[39m=\u001b[39m spectral_estimator\u001b[39m.\u001b[39;49mfit_predict(data)\n\u001b[1;32m      <a href='vscode-notebook-cell:/Users/catherineli/Library/CloudStorage/OneDrive-UniversityofCapeTown/2.CSC2005Z/code-related/Spectral.ipynb#X50sZmlsZQ%3D%3D?line=4'>5</a>\u001b[0m     precision \u001b[39m=\u001b[39m precision_score(truth, labels, labels \u001b[39m=\u001b[39m [\u001b[39m0\u001b[39m,\u001b[39m1\u001b[39m], average \u001b[39m=\u001b[39m \u001b[39m'\u001b[39m\u001b[39mweighted\u001b[39m\u001b[39m'\u001b[39m)\n\u001b[1;32m      <a href='vscode-notebook-cell:/Users/catherineli/Library/CloudStorage/OneDrive-UniversityofCapeTown/2.CSC2005Z/code-related/Spectral.ipynb#X50sZmlsZQ%3D%3D?line=5'>6</a>\u001b[0m     recall \u001b[39m=\u001b[39m recall_score(truth, labels, labels \u001b[39m=\u001b[39m [\u001b[39m0\u001b[39m,\u001b[39m1\u001b[39m], average \u001b[39m=\u001b[39m \u001b[39m'\u001b[39m\u001b[39mweighted\u001b[39m\u001b[39m'\u001b[39m)\n",
      "File \u001b[0;32m/Library/Frameworks/Python.framework/Versions/3.12/lib/python3.12/site-packages/sklearn/cluster/_spectral.py:792\u001b[0m, in \u001b[0;36mSpectralClustering.fit_predict\u001b[0;34m(self, X, y)\u001b[0m\n\u001b[1;32m    770\u001b[0m \u001b[39mdef\u001b[39;00m \u001b[39mfit_predict\u001b[39m(\u001b[39mself\u001b[39m, X, y\u001b[39m=\u001b[39m\u001b[39mNone\u001b[39;00m):\n\u001b[1;32m    771\u001b[0m \u001b[39m    \u001b[39m\u001b[39m\"\"\"Perform spectral clustering on `X` and return cluster labels.\u001b[39;00m\n\u001b[1;32m    772\u001b[0m \n\u001b[1;32m    773\u001b[0m \u001b[39m    Parameters\u001b[39;00m\n\u001b[0;32m   (...)\u001b[0m\n\u001b[1;32m    790\u001b[0m \u001b[39m        Cluster labels.\u001b[39;00m\n\u001b[1;32m    791\u001b[0m \u001b[39m    \"\"\"\u001b[39;00m\n\u001b[0;32m--> 792\u001b[0m     \u001b[39mreturn\u001b[39;00m \u001b[39msuper\u001b[39;49m()\u001b[39m.\u001b[39;49mfit_predict(X, y)\n",
      "File \u001b[0;32m/Library/Frameworks/Python.framework/Versions/3.12/lib/python3.12/site-packages/sklearn/base.py:900\u001b[0m, in \u001b[0;36mClusterMixin.fit_predict\u001b[0;34m(self, X, y, **kwargs)\u001b[0m\n\u001b[1;32m    877\u001b[0m \u001b[39m\u001b[39m\u001b[39m\"\"\"\u001b[39;00m\n\u001b[1;32m    878\u001b[0m \u001b[39mPerform clustering on `X` and returns cluster labels.\u001b[39;00m\n\u001b[1;32m    879\u001b[0m \n\u001b[0;32m   (...)\u001b[0m\n\u001b[1;32m    896\u001b[0m \u001b[39m    Cluster labels.\u001b[39;00m\n\u001b[1;32m    897\u001b[0m \u001b[39m\"\"\"\u001b[39;00m\n\u001b[1;32m    898\u001b[0m \u001b[39m# non-optimized default implementation; override when a better\u001b[39;00m\n\u001b[1;32m    899\u001b[0m \u001b[39m# method is possible for a given clustering algorithm\u001b[39;00m\n\u001b[0;32m--> 900\u001b[0m \u001b[39mself\u001b[39;49m\u001b[39m.\u001b[39;49mfit(X, \u001b[39m*\u001b[39;49m\u001b[39m*\u001b[39;49mkwargs)\n\u001b[1;32m    901\u001b[0m \u001b[39mreturn\u001b[39;00m \u001b[39mself\u001b[39m\u001b[39m.\u001b[39mlabels_\n",
      "File \u001b[0;32m/Library/Frameworks/Python.framework/Versions/3.12/lib/python3.12/site-packages/sklearn/base.py:1473\u001b[0m, in \u001b[0;36m_fit_context.<locals>.decorator.<locals>.wrapper\u001b[0;34m(estimator, *args, **kwargs)\u001b[0m\n\u001b[1;32m   1466\u001b[0m     estimator\u001b[39m.\u001b[39m_validate_params()\n\u001b[1;32m   1468\u001b[0m \u001b[39mwith\u001b[39;00m config_context(\n\u001b[1;32m   1469\u001b[0m     skip_parameter_validation\u001b[39m=\u001b[39m(\n\u001b[1;32m   1470\u001b[0m         prefer_skip_nested_validation \u001b[39mor\u001b[39;00m global_skip_validation\n\u001b[1;32m   1471\u001b[0m     )\n\u001b[1;32m   1472\u001b[0m ):\n\u001b[0;32m-> 1473\u001b[0m     \u001b[39mreturn\u001b[39;00m fit_method(estimator, \u001b[39m*\u001b[39;49margs, \u001b[39m*\u001b[39;49m\u001b[39m*\u001b[39;49mkwargs)\n",
      "File \u001b[0;32m/Library/Frameworks/Python.framework/Versions/3.12/lib/python3.12/site-packages/sklearn/cluster/_spectral.py:744\u001b[0m, in \u001b[0;36mSpectralClustering.fit\u001b[0;34m(self, X, y)\u001b[0m\n\u001b[1;32m    735\u001b[0m n_components \u001b[39m=\u001b[39m (\n\u001b[1;32m    736\u001b[0m     \u001b[39mself\u001b[39m\u001b[39m.\u001b[39mn_clusters \u001b[39mif\u001b[39;00m \u001b[39mself\u001b[39m\u001b[39m.\u001b[39mn_components \u001b[39mis\u001b[39;00m \u001b[39mNone\u001b[39;00m \u001b[39melse\u001b[39;00m \u001b[39mself\u001b[39m\u001b[39m.\u001b[39mn_components\n\u001b[1;32m    737\u001b[0m )\n\u001b[1;32m    738\u001b[0m \u001b[39m# We now obtain the real valued solution matrix to the\u001b[39;00m\n\u001b[1;32m    739\u001b[0m \u001b[39m# relaxed Ncut problem, solving the eigenvalue problem\u001b[39;00m\n\u001b[1;32m    740\u001b[0m \u001b[39m# L_sym x = lambda x  and recovering u = D^-1/2 x.\u001b[39;00m\n\u001b[1;32m    741\u001b[0m \u001b[39m# The first eigenvector is constant only for fully connected graphs\u001b[39;00m\n\u001b[1;32m    742\u001b[0m \u001b[39m# and should be kept for spectral clustering (drop_first = False)\u001b[39;00m\n\u001b[1;32m    743\u001b[0m \u001b[39m# See spectral_embedding documentation.\u001b[39;00m\n\u001b[0;32m--> 744\u001b[0m maps \u001b[39m=\u001b[39m _spectral_embedding(\n\u001b[1;32m    745\u001b[0m     \u001b[39mself\u001b[39;49m\u001b[39m.\u001b[39;49maffinity_matrix_,\n\u001b[1;32m    746\u001b[0m     n_components\u001b[39m=\u001b[39;49mn_components,\n\u001b[1;32m    747\u001b[0m     eigen_solver\u001b[39m=\u001b[39;49m\u001b[39mself\u001b[39;49m\u001b[39m.\u001b[39;49meigen_solver,\n\u001b[1;32m    748\u001b[0m     random_state\u001b[39m=\u001b[39;49mrandom_state,\n\u001b[1;32m    749\u001b[0m     eigen_tol\u001b[39m=\u001b[39;49m\u001b[39mself\u001b[39;49m\u001b[39m.\u001b[39;49meigen_tol,\n\u001b[1;32m    750\u001b[0m     drop_first\u001b[39m=\u001b[39;49m\u001b[39mFalse\u001b[39;49;00m,\n\u001b[1;32m    751\u001b[0m )\n\u001b[1;32m    752\u001b[0m \u001b[39mif\u001b[39;00m \u001b[39mself\u001b[39m\u001b[39m.\u001b[39mverbose:\n\u001b[1;32m    753\u001b[0m     \u001b[39mprint\u001b[39m(\u001b[39mf\u001b[39m\u001b[39m\"\u001b[39m\u001b[39mComputing label assignment using \u001b[39m\u001b[39m{\u001b[39;00m\u001b[39mself\u001b[39m\u001b[39m.\u001b[39massign_labels\u001b[39m}\u001b[39;00m\u001b[39m\"\u001b[39m)\n",
      "File \u001b[0;32m/Library/Frameworks/Python.framework/Versions/3.12/lib/python3.12/site-packages/sklearn/manifold/_spectral_embedding.py:372\u001b[0m, in \u001b[0;36m_spectral_embedding\u001b[0;34m(adjacency, n_components, eigen_solver, random_state, eigen_tol, norm_laplacian, drop_first)\u001b[0m\n\u001b[1;32m    368\u001b[0m v0 \u001b[39m=\u001b[39m _init_arpack_v0(laplacian\u001b[39m.\u001b[39mshape[\u001b[39m0\u001b[39m], random_state)\n\u001b[1;32m    369\u001b[0m laplacian \u001b[39m=\u001b[39m check_array(\n\u001b[1;32m    370\u001b[0m     laplacian, accept_sparse\u001b[39m=\u001b[39m\u001b[39m\"\u001b[39m\u001b[39mcsr\u001b[39m\u001b[39m\"\u001b[39m, accept_large_sparse\u001b[39m=\u001b[39m\u001b[39mFalse\u001b[39;00m\n\u001b[1;32m    371\u001b[0m )\n\u001b[0;32m--> 372\u001b[0m _, diffusion_map \u001b[39m=\u001b[39m eigsh(\n\u001b[1;32m    373\u001b[0m     laplacian, k\u001b[39m=\u001b[39;49mn_components, sigma\u001b[39m=\u001b[39;49m\u001b[39m1.0\u001b[39;49m, which\u001b[39m=\u001b[39;49m\u001b[39m\"\u001b[39;49m\u001b[39mLM\u001b[39;49m\u001b[39m\"\u001b[39;49m, tol\u001b[39m=\u001b[39;49mtol, v0\u001b[39m=\u001b[39;49mv0\n\u001b[1;32m    374\u001b[0m )\n\u001b[1;32m    375\u001b[0m embedding \u001b[39m=\u001b[39m diffusion_map\u001b[39m.\u001b[39mT[n_components::\u001b[39m-\u001b[39m\u001b[39m1\u001b[39m]\n\u001b[1;32m    376\u001b[0m \u001b[39mif\u001b[39;00m norm_laplacian:\n\u001b[1;32m    377\u001b[0m     \u001b[39m# recover u = D^-1/2 x from the eigenvector output x\u001b[39;00m\n",
      "File \u001b[0;32m/Library/Frameworks/Python.framework/Versions/3.12/lib/python3.12/site-packages/scipy/sparse/linalg/_eigen/arpack/arpack.py:1700\u001b[0m, in \u001b[0;36meigsh\u001b[0;34m(A, k, M, sigma, which, v0, ncv, maxiter, tol, return_eigenvectors, Minv, OPinv, mode)\u001b[0m\n\u001b[1;32m   1698\u001b[0m \u001b[39mwith\u001b[39;00m _ARPACK_LOCK:\n\u001b[1;32m   1699\u001b[0m     \u001b[39mwhile\u001b[39;00m \u001b[39mnot\u001b[39;00m params\u001b[39m.\u001b[39mconverged:\n\u001b[0;32m-> 1700\u001b[0m         params\u001b[39m.\u001b[39;49miterate()\n\u001b[1;32m   1702\u001b[0m     \u001b[39mreturn\u001b[39;00m params\u001b[39m.\u001b[39mextract(return_eigenvectors)\n",
      "File \u001b[0;32m/Library/Frameworks/Python.framework/Versions/3.12/lib/python3.12/site-packages/scipy/sparse/linalg/_eigen/arpack/arpack.py:560\u001b[0m, in \u001b[0;36m_SymmetricArpackParams.iterate\u001b[0;34m(self)\u001b[0m\n\u001b[1;32m    558\u001b[0m     \u001b[39melse\u001b[39;00m:\n\u001b[1;32m    559\u001b[0m         Bxslice \u001b[39m=\u001b[39m \u001b[39mslice\u001b[39m(\u001b[39mself\u001b[39m\u001b[39m.\u001b[39mipntr[\u001b[39m2\u001b[39m] \u001b[39m-\u001b[39m \u001b[39m1\u001b[39m, \u001b[39mself\u001b[39m\u001b[39m.\u001b[39mipntr[\u001b[39m2\u001b[39m] \u001b[39m-\u001b[39m \u001b[39m1\u001b[39m \u001b[39m+\u001b[39m \u001b[39mself\u001b[39m\u001b[39m.\u001b[39mn)\n\u001b[0;32m--> 560\u001b[0m         \u001b[39mself\u001b[39m\u001b[39m.\u001b[39mworkd[yslice] \u001b[39m=\u001b[39m \u001b[39mself\u001b[39;49m\u001b[39m.\u001b[39;49mOPa(\u001b[39mself\u001b[39;49m\u001b[39m.\u001b[39;49mworkd[Bxslice])\n\u001b[1;32m    561\u001b[0m \u001b[39melif\u001b[39;00m \u001b[39mself\u001b[39m\u001b[39m.\u001b[39mido \u001b[39m==\u001b[39m \u001b[39m2\u001b[39m:\n\u001b[1;32m    562\u001b[0m     \u001b[39mself\u001b[39m\u001b[39m.\u001b[39mworkd[yslice] \u001b[39m=\u001b[39m \u001b[39mself\u001b[39m\u001b[39m.\u001b[39mB(\u001b[39mself\u001b[39m\u001b[39m.\u001b[39mworkd[xslice])\n",
      "File \u001b[0;32m/Library/Frameworks/Python.framework/Versions/3.12/lib/python3.12/site-packages/scipy/sparse/linalg/_interface.py:236\u001b[0m, in \u001b[0;36mLinearOperator.matvec\u001b[0;34m(self, x)\u001b[0m\n\u001b[1;32m    233\u001b[0m \u001b[39mif\u001b[39;00m x\u001b[39m.\u001b[39mshape \u001b[39m!=\u001b[39m (N,) \u001b[39mand\u001b[39;00m x\u001b[39m.\u001b[39mshape \u001b[39m!=\u001b[39m (N,\u001b[39m1\u001b[39m):\n\u001b[1;32m    234\u001b[0m     \u001b[39mraise\u001b[39;00m \u001b[39mValueError\u001b[39;00m(\u001b[39m'\u001b[39m\u001b[39mdimension mismatch\u001b[39m\u001b[39m'\u001b[39m)\n\u001b[0;32m--> 236\u001b[0m y \u001b[39m=\u001b[39m \u001b[39mself\u001b[39;49m\u001b[39m.\u001b[39;49m_matvec(x)\n\u001b[1;32m    238\u001b[0m \u001b[39mif\u001b[39;00m \u001b[39misinstance\u001b[39m(x, np\u001b[39m.\u001b[39mmatrix):\n\u001b[1;32m    239\u001b[0m     y \u001b[39m=\u001b[39m asmatrix(y)\n",
      "File \u001b[0;32m/Library/Frameworks/Python.framework/Versions/3.12/lib/python3.12/site-packages/scipy/sparse/linalg/_eigen/arpack/arpack.py:947\u001b[0m, in \u001b[0;36mLuInv._matvec\u001b[0;34m(self, x)\u001b[0m\n\u001b[1;32m    946\u001b[0m \u001b[39mdef\u001b[39;00m \u001b[39m_matvec\u001b[39m(\u001b[39mself\u001b[39m, x):\n\u001b[0;32m--> 947\u001b[0m     \u001b[39mreturn\u001b[39;00m lu_solve(\u001b[39mself\u001b[39;49m\u001b[39m.\u001b[39;49mM_lu, x)\n",
      "File \u001b[0;32m/Library/Frameworks/Python.framework/Versions/3.12/lib/python3.12/site-packages/scipy/linalg/_decomp_lu.py:194\u001b[0m, in \u001b[0;36mlu_solve\u001b[0;34m(lu_and_piv, b, trans, overwrite_b, check_finite)\u001b[0m\n\u001b[1;32m    191\u001b[0m     \u001b[39mreturn\u001b[39;00m np\u001b[39m.\u001b[39mempty_like(b1, dtype\u001b[39m=\u001b[39mm\u001b[39m.\u001b[39mdtype)\n\u001b[1;32m    193\u001b[0m getrs, \u001b[39m=\u001b[39m get_lapack_funcs((\u001b[39m'\u001b[39m\u001b[39mgetrs\u001b[39m\u001b[39m'\u001b[39m,), (lu, b1))\n\u001b[0;32m--> 194\u001b[0m x, info \u001b[39m=\u001b[39m getrs(lu, piv, b1, trans\u001b[39m=\u001b[39;49mtrans, overwrite_b\u001b[39m=\u001b[39;49moverwrite_b)\n\u001b[1;32m    195\u001b[0m \u001b[39mif\u001b[39;00m info \u001b[39m==\u001b[39m \u001b[39m0\u001b[39m:\n\u001b[1;32m    196\u001b[0m     \u001b[39mreturn\u001b[39;00m x\n",
      "\u001b[0;31mKeyboardInterrupt\u001b[0m: "
     ]
    }
   ],
   "source": [
    "for i in range (3):\n",
    "    record_results(hog_truth_n , hog_data_n, p_r_f1, \"hog_n\" )\n",
    "# 115m 59.4s\n",
    "\n",
    "# more than 748m for two results \n",
    "# f1 :  0.7167622554453932 \n",
    "# precision:  0.8164723191982974 \n",
    "# recall:  0.6706206474324634"
   ]
  },
  {
   "cell_type": "code",
   "execution_count": null,
   "metadata": {},
   "outputs": [],
   "source": [
    "record_results(hist_truth_n , hist_data_n, p_r_f1, \"hist_n\" ) "
   ]
  },
  {
   "cell_type": "code",
   "execution_count": null,
   "metadata": {},
   "outputs": [],
   "source": [
    "# the PCA section \n",
    "GLCM_truth_n_pca, GLCM_data_n_pca =  get_truth_and_data('GLCM_n_pca.npy')\n",
    "GLCM_truth_pca, GLCM_data_pca =  get_truth_and_data('GLCM_pca.npy')\n",
    "\n",
    "hog_truth_n_pca, hog_data_n_pca =  get_truth_and_data('hog_n_pca.npy')\n",
    "hog_truth_pca, hog_data_pca =  get_truth_and_data('hog_pca.npy')\n",
    "\n",
    "lbp_truth_pca, lbp_data_pca =  get_truth_and_data('lbp_pca.npy')\n",
    "lbp_truth_n_pca, lbp_data_n_pca =  get_truth_and_data('lbp_n_pca.npy')\n",
    "\n",
    "hist_truth_n_pca, hist_data_n_pca =  get_truth_and_data('hist_n_pca.npy')\n",
    "hist_truth_pca, hist_data_pca =  get_truth_and_data('hist_pca.npy')"
   ]
  },
  {
   "cell_type": "code",
   "execution_count": null,
   "metadata": {},
   "outputs": [],
   "source": [
    "for i in range(10):\n",
    "    record_results(GLCM_truth_n_pca, GLCM_data_n_pca, p_r_f1, \"glcm_n_pca\")\n",
    "    record_results(GLCM_truth_pca, GLCM_data_pca, p_r_f1, \"glcm_pca\")\n",
    "    \n",
    "    record_results(hist_truth_pca, hist_data_pca, p_r_f1, \"hist_pca\")\n",
    "\n",
    "    record_results(lbp_truth_pca, lbp_data_pca, p_r_f1, \"lbp_pca\")\n",
    "    record_results(lbp_truth_n_pca, lbp_data_n_pca,  p_r_f1, \"lbp_n_pca\")\n",
    "    #41m 38.8s"
   ]
  },
  {
   "cell_type": "code",
   "execution_count": null,
   "metadata": {},
   "outputs": [],
   "source": [
    "# hog takes 194 minutes long\n",
    "for i in range (10):\n",
    "    record_results(hog_truth_n_pca, hog_data_n_pca, p_r_f1, \"hog_n_pca\")\n",
    "    record_results(hog_truth_pca, hog_data_pca, p_r_f1, \"hog_pca\")"
   ]
  },
  {
   "cell_type": "code",
   "execution_count": null,
   "metadata": {},
   "outputs": [],
   "source": [
    "# hist n pca doesnt want to run properly \n",
    "record_results(hist_truth_n_pca, hist_data_n_pca, p_r_f1, \"hist_n_pca\")"
   ]
  }
 ],
 "metadata": {
  "kernelspec": {
   "display_name": "Python 3",
   "language": "python",
   "name": "python3"
  },
  "language_info": {
   "codemirror_mode": {
    "name": "ipython",
    "version": 3
   },
   "file_extension": ".py",
   "mimetype": "text/x-python",
   "name": "python",
   "nbconvert_exporter": "python",
   "pygments_lexer": "ipython3",
   "version": "3.12.4"
  }
 },
 "nbformat": 4,
 "nbformat_minor": 2
}
