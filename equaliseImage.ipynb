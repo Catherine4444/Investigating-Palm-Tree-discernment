{
 "cells": [
  {
   "cell_type": "code",
   "execution_count": 10,
   "metadata": {},
   "outputs": [],
   "source": [
    "install = False \n",
    "if install:\n",
    "    !pip3 install opencv-python\n",
    "    !pip3 install numpy\n",
    "\n",
    "import numpy as np\n",
    "import cv2 \n",
    "import os \n",
    "import glob"
   ]
  },
  {
   "cell_type": "code",
   "execution_count": 2,
   "metadata": {},
   "outputs": [
    {
     "name": "stdout",
     "output_type": "stream",
     "text": [
      "original test xml\n",
      "      70\n",
      "new test xml\n",
      "      70\n",
      "original train xml\n",
      "     279\n",
      "new train xml\n",
      "     279\n"
     ]
    }
   ],
   "source": [
    "# ensure image directory is made and lables in directories\n",
    "!mkdir -p greyAndEquPalm/test\n",
    "!mkdir -p greyAndEquPalm/train\n",
    "moveDoc = False \n",
    "if moveDoc:\n",
    "    !cp -v palm/*.csv greyAndEquPalm/\n",
    "    !cp -v palm/test/*.xml greyAndEquPalm/test\n",
    "    !cp -v palm/train/*.xml greyAndEquPalm/train\n",
    "check1 = True \n",
    "if check1:\n",
    "    print(\"original test xml\")\n",
    "    !ls -l palm/test/*.xml | wc -l\n",
    "    print(\"new test xml\")\n",
    "    !ls -l greyAndEquPalm/test/*.xml | wc -l\n",
    "    print(\"original train xml\")\n",
    "    !ls -l palm/train/*.xml | wc -l\n",
    "    print(\"new train xml\")\n",
    "    !ls -l greyAndEquPalm/train/*.xml | wc -l"
   ]
  },
  {
   "cell_type": "code",
   "execution_count": null,
   "metadata": {},
   "outputs": [],
   "source": [
    "\n",
    "    \n",
    "    #turn grey and equalize \n",
    "    # TODO: rgb to grey , query picture , provs better z normalsation \n",
    "    # keep clustering on own laptop \n",
    "    # consider pca projection in speed up graph \n"
   ]
  },
  {
   "cell_type": "code",
   "execution_count": 7,
   "metadata": {},
   "outputs": [
    {
     "name": "stdout",
     "output_type": "stream",
     "text": [
      "All images processed and saved!\n",
      "All images processed and saved!\n"
     ]
    }
   ],
   "source": [
    "\"\"\"src refers to the path/to/files/*.extention where all the images are \n",
    "    dest refers to the destination in which the processessed images are saved\n",
    "    dest str must end with / bcs of implementation of function \n",
    "    verbose = True prints out all the images as they are saved\"\"\"\n",
    "def greyAndEqu(src, dest, verbose = False):\n",
    "    # list of test image paths for .jpeg\n",
    "    testIm_paths = glob.glob(src)   \n",
    "\n",
    "    # for the test set \n",
    "    for im_path in testIm_paths:\n",
    "        im = cv2.imread(im_path)\n",
    "\n",
    "        # check if successfully read \n",
    "        if im is None:\n",
    "            print(f\"Error reading image {im_path}\")\n",
    "            continue\n",
    "        \n",
    "        #turn grey and equalize \n",
    "        #when turing grey scale, the rabe is [0,255]\n",
    "        #grey_im = cv2.cvtColor(im, cv2.COLOR_RGB2GRAY)\n",
    "        equ_im = cv2.equalizeHist(im)\n",
    "\n",
    "        # Extract the image file name\n",
    "        im_name = os.path.basename(im_path)\n",
    "\n",
    "        output_path = os.path.join(dest, im_name)\n",
    "        \n",
    "        # Save the grayscale, equalised image\n",
    "        cv2.imwrite(output_path, equ_im)\n",
    "        if verbose:\n",
    "            print(f'Saved grayscale image: {output_path}')\n",
    "    \n",
    "    print(\"All images processed and saved!\")\n",
    "\n",
    "notDone = True \n",
    "if notDone:\n",
    "    #greyAndEqu(\"palm/test/ck2euxc9kxgvm07486g2d5pid.jpg\", \"greyAndEquPalm/\")\n",
    "    # for the test set \n",
    "    greyAndEqu(\"palm/test/*.jp*\", \"greyAndEquPalm/test/\")\n",
    "\n",
    "    # for the train set \n",
    "    greyAndEqu(\"palm/train/*.jp*\", \"greyAndEquPalm/train/\")"
   ]
  },
  {
   "cell_type": "code",
   "execution_count": 8,
   "metadata": {},
   "outputs": [
    {
     "name": "stdout",
     "output_type": "stream",
     "text": [
      "test xml\n",
      "      70\n",
      "test image\n",
      "      70\n",
      "train xml\n",
      "     279\n",
      "train image\n",
      "     279\n"
     ]
    }
   ],
   "source": [
    "check2 = True \n",
    "if check2:\n",
    "    print(\"test xml\") # images must match amount of xml \n",
    "    !ls -l palm/test/*.xml | wc -l\n",
    "    print(\"test image\")\n",
    "    !ls -l greyAndEquPalm/test/*.jp* | wc -l\n",
    "    print(\"train xml\") # images must match amount of xml \n",
    "    !ls -l palm/train/*.xml | wc -l\n",
    "    print(\"train image\")\n",
    "    !ls -l greyAndEquPalm/train/*.jp* | wc -l"
   ]
  },
  {
   "cell_type": "code",
   "execution_count": 18,
   "metadata": {},
   "outputs": [
    {
     "name": "stdout",
     "output_type": "stream",
     "text": [
      "2\n",
      "[[102  94  87 ... 208 210 204]\n",
      " [104  90  78 ... 208 210 205]\n",
      " [106  91  81 ... 211 212 208]\n",
      " ...\n",
      " [ 79  87  94 ... 223 223 223]\n",
      " [ 81  93 101 ... 223 223 223]\n",
      " [ 94  97  95 ... 223 223 223]]\n",
      "Saved grayscale image: /Users/catherineli/Library/CloudStorage/OneDrive-UniversityofCapeTown/2.CSC2005Z/test.jpg\n"
     ]
    }
   ],
   "source": [
    "# testing only for one image \n",
    "\n",
    "im_path = \"/Users/catherineli/Library/CloudStorage/OneDrive-UniversityofCapeTown/2.CSC2005Z/code-related/palm/test/ck2euxc9kxgvm07486g2d5pid.jpg\"\n",
    "im = cv2.imread(im_path)\n",
    "\n",
    "# check if successfully read \n",
    "if im is not None:\n",
    "    \n",
    "    #turn grey and equalize \n",
    "    #when turing grey scale, the rabe is [0,255]\n",
    "    grey_im = cv2.cvtColor(im, cv2.COLOR_RGB2GRAY)\n",
    "    equ_im = cv2.equalizeHist(grey_im)\n",
    "    print(grey_im.ndim)\n",
    "    print(grey_im)\n",
    "\n",
    "    output_path = \"/Users/catherineli/Library/CloudStorage/OneDrive-UniversityofCapeTown/2.CSC2005Z/test.jpg\"\n",
    "\n",
    "    # Save the grayscale, equalised image\n",
    "    cv2.imwrite(output_path, equ_im)\n",
    "\n",
    "    print(f'Saved grayscale image: {output_path}')\n",
    "\n",
    "else:\n",
    "    print(f\"Error reading image {im_path}\")\n"
   ]
  },
  {
   "cell_type": "code",
   "execution_count": 23,
   "metadata": {},
   "outputs": [],
   "source": []
  }
 ],
 "metadata": {
  "kernelspec": {
   "display_name": "Python 3",
   "language": "python",
   "name": "python3"
  },
  "language_info": {
   "codemirror_mode": {
    "name": "ipython",
    "version": 3
   },
   "file_extension": ".py",
   "mimetype": "text/x-python",
   "name": "python",
   "nbconvert_exporter": "python",
   "pygments_lexer": "ipython3",
   "version": "3.12.4"
  }
 },
 "nbformat": 4,
 "nbformat_minor": 2
}
