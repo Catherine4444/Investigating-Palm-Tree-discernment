{
 "cells": [
  {
   "cell_type": "code",
   "execution_count": 2,
   "metadata": {},
   "outputs": [],
   "source": [
    "import cv2\n",
    "import matplotlib.pyplot as plt\n",
    "import numpy as np\n",
    "import glob"
   ]
  },
  {
   "cell_type": "code",
   "execution_count": 3,
   "metadata": {},
   "outputs": [
    {
     "name": "stdout",
     "output_type": "stream",
     "text": [
      "[[0 0 0 ... 0 0 0]\n",
      " [0 0 0 ... 0 0 0]\n",
      " [0 0 0 ... 0 0 0]\n",
      " ...\n",
      " [0 0 1 ... 0 0 0]\n",
      " [0 1 1 ... 1 1 1]\n",
      " [0 1 1 ... 1 1 1]]\n"
     ]
    }
   ],
   "source": [
    "image = cv2.imread(\"/Users/catherineli/Library/CloudStorage/OneDrive-UniversityofCapeTown/2.CSC2005Z/code-related/singleTree/test/ck2euxc9kxgvm07486g2d5pid_0_2492_267_2848_Palm.jpg\", flags = cv2.IMREAD_GRAYSCALE)\n",
    "imageN =cv2.imread(\"/Users/catherineli/Library/CloudStorage/OneDrive-UniversityofCapeTown/2.CSC2005Z/code-related/singleTree/test/norm/ck2euxc9kxgvm07486g2d5pid_0_2492_267_2848_Palm.jpg\", flags = cv2.IMREAD_GRAYSCALE)\n",
    "\n",
    "tree_im = cv2.imread(\"/Users/catherineli/Library/CloudStorage/OneDrive-UniversityofCapeTown/2.CSC2005Z/code-related/singleTree/test/ck2euxc9kxgvm07486g2d5pid_33_1251_339_1622_Tree.jpg\", flags = cv2.IMREAD_GRAYSCALE)\n",
    "tree_imN = cv2.imread(\"/Users/catherineli/Library/CloudStorage/OneDrive-UniversityofCapeTown/2.CSC2005Z/code-related/singleTree/test/norm/ck2euxc9kxgvm07486g2d5pid_33_1251_339_1622_Tree.jpg\", flags = cv2.IMREAD_GRAYSCALE)\n",
    "print(imageN)"
   ]
  },
  {
   "cell_type": "code",
   "execution_count": null,
   "metadata": {},
   "outputs": [],
   "source": [
    "# def histo(image):\n",
    "#     histogram = np.array(cv2.calcHist([image], [0], None, [256], [0, 256]))\n",
    "\n",
    "#     # show the histogram\n",
    "#     plt.hist(histogram, bins=30, edgecolor='black')\n",
    "#     plt.title(\"Grayscale Histogram\")\n",
    "#     plt.xlabel(\"Pixel Intensity\")\n",
    "#     plt.ylabel(\"Frequency\")\n",
    "#     plt.xlim([0, 256])  # Pixel intensity ranges from 0 (black) to 255 (white)\n",
    "\n",
    "#     # Display the plot\n",
    "#     plt.show()\n",
    "\n",
    "# def histoN(image):\n",
    "#     histogram = np.array(cv2.calcHist([image], [0], None, [256], [-3, 3]))\n",
    "\n",
    "#     # show the histogram\n",
    "#     plt.hist(histogram, bins=30, edgecolor='black')\n",
    "#     plt.title(\"Grayscale Histogram\")\n",
    "#     plt.xlabel(\"Pixel Intensity\")\n",
    "#     plt.ylabel(\"Frequency\")\n",
    "#     plt.xlim([-3, 3])  # Pixel intensity ranges from 0 (black) to 255 (white)\n",
    "\n",
    "#     # Display the plot\n",
    "#     plt.show()\n",
    "\n",
    "\n",
    "# # code histogrdam \n",
    "#     # (x-m)/distance of bin\n",
    "#     # inspec each iange to find correct lower bound and upper bound \n",
    "#     # histogram list initialised to 0 \n",
    "#     # hve to normalise to probability (map into 0 to 1)     \n",
    "\n",
    "# histo(image)\n",
    "# histoN(imageN)\n",
    "# histo(tree_im)\n",
    "# histoN(tree_imN)"
   ]
  },
  {
   "cell_type": "code",
   "execution_count": 4,
   "metadata": {},
   "outputs": [
    {
     "name": "stdout",
     "output_type": "stream",
     "text": [
      "2669\n",
      "10398\n"
     ]
    }
   ],
   "source": [
    "\n",
    "def hist_feature(image):\n",
    "    flattened = image.ravel()\n",
    "    max = float(flattened.max()+1)\n",
    "    min = float(flattened.min())\n",
    "    \n",
    "    # n_bins = int(max-min)\n",
    "\n",
    "    hist, bin_edges = np.histogram(flattened, bins=32, range=(min,max), density=True)\n",
    "    # print(\"fattened image array \",flattened)\n",
    "    # print(\"length of image: \",len(flattened))\n",
    "    # print(\"max \", max, \"\\nmin \", min)\n",
    "    # print(\"Histogram values with density True: \",hist)\n",
    "    # print('histogram edges: ', bin_edges)\n",
    "\n",
    "    plot = False\n",
    "    if plot:\n",
    "        # Plot the histogram\n",
    "        plt.hist(flattened, bins=bin_edges, range=(min, max), density=True, facecolor='0.5')\n",
    "        plt.title(\"Histogram\")\n",
    "        plt.xlabel(\"Value\")\n",
    "        plt.ylabel(\"Frequency\")\n",
    "        plt.show()\n",
    "    # convert to histogram \n",
    "    #return hist, bin_edges\n",
    "    return hist\n",
    "\n",
    "# Store all the feature vectors into dictionary\n",
    "# takes in the directory of the single trees \n",
    "# returns a dictionary of hist features \n",
    "def extractHist(srcDir):\n",
    "    \n",
    "    hist_dict = {}\n",
    "    im_paths = glob.glob(srcDir+\"*.j*\" )\n",
    "    len_dir = len(srcDir)\n",
    "    # print(len_dir)\n",
    "    \n",
    "    # for each tree extract hist feature \n",
    "    for im_path in im_paths:\n",
    "        \n",
    "        image = cv2.imread(im_path, flags = cv2.IMREAD_GRAYSCALE)\n",
    "            \n",
    "        # find name of corresponding image (watch out if file name has a .j in other places)\n",
    "        dot_index = im_path.find(\".j\")\n",
    "        im_name = im_path[len_dir:dot_index]\n",
    "        np_hist = hist_feature(image)\n",
    "        hist_dict[im_name] = np_hist\n",
    "\n",
    "\n",
    "    return hist_dict\n"
   ]
  },
  {
   "cell_type": "code",
   "execution_count": 5,
   "metadata": {},
   "outputs": [
    {
     "name": "stdout",
     "output_type": "stream",
     "text": [
      "2669\n",
      "10398\n"
     ]
    }
   ],
   "source": [
    "generateFeatures = True\n",
    "if generateFeatures:\n",
    "    hist_dict_test = extractHist(\"/Users/catherineli/Library/CloudStorage/OneDrive-UniversityofCapeTown/2.CSC2005Z/code-related/singleTree/test/\")\n",
    "    print(len(hist_dict_test))\n",
    "    hist_dict_testN = extractHist(\"/Users/catherineli/Library/CloudStorage/OneDrive-UniversityofCapeTown/2.CSC2005Z/code-related/singleTree/test/norm/\")\n",
    "\n",
    "    hist_dict_train = extractHist(\"/Users/catherineli/Library/CloudStorage/OneDrive-UniversityofCapeTown/2.CSC2005Z/code-related/singleTree/train/\")\n",
    "    print(len(hist_dict_train))\n",
    "    hist_dict_trainN = extractHist(\"/Users/catherineli/Library/CloudStorage/OneDrive-UniversityofCapeTown/2.CSC2005Z/code-related/singleTree/train/norm/\")\n",
    "    \n",
    "    np.save('hist_test.npy', hist_dict_test)\n",
    "    np.save('hist_train.npy', hist_dict_train)\n",
    "\n",
    "    dict = hist_dict_train | hist_dict_test\n",
    "    np.save('hist.npy', dict)\n",
    "    \n",
    "    np.save('hist_testN.npy', hist_dict_testN)\n",
    "    np.save('hist_trainN.npy', hist_dict_trainN)\n",
    "\n",
    "    dict = hist_dict_trainN | hist_dict_testN\n",
    "    np.save('hist_n.npy', dict)"
   ]
  }
 ],
 "metadata": {
  "kernelspec": {
   "display_name": "Python 3",
   "language": "python",
   "name": "python3"
  },
  "language_info": {
   "codemirror_mode": {
    "name": "ipython",
    "version": 3
   },
   "file_extension": ".py",
   "mimetype": "text/x-python",
   "name": "python",
   "nbconvert_exporter": "python",
   "pygments_lexer": "ipython3",
   "version": "3.12.4"
  }
 },
 "nbformat": 4,
 "nbformat_minor": 2
}
