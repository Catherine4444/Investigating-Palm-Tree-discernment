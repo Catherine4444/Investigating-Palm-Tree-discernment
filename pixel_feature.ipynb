{
 "cells": [
  {
   "cell_type": "code",
   "execution_count": 1,
   "id": "a78ca9e7-f4bf-482d-89e1-2b2ff372f17f",
   "metadata": {},
   "outputs": [],
   "source": [
    "install = False \n",
    "if install:\n",
    "    !pip3 install opencv-python\n",
    "    !pip install pandas\n",
    "import cv2\n",
    "import pandas as pd"
   ]
  },
  {
   "cell_type": "markdown",
   "id": "2f72a53e-d0fb-4827-a773-18a9fad95e32",
   "metadata": {},
   "source": [
    "importing image"
   ]
  },
  {
   "cell_type": "code",
   "execution_count": 2,
   "id": "945d65da-8d37-4617-b5cb-4ec15666a0ad",
   "metadata": {},
   "outputs": [],
   "source": [
    "# Read an image from file\n",
    "image = cv2.imread('palm/train/ck2oh0xx2sthb0838g3pmr4ky.jpg')\n",
    "\n",
    "# Convert the image from BGR to RGB (OpenCV loads images in BGR by default)\n",
    "image_rgb = cv2.cvtColor(image, cv2.COLOR_BGR2RGB)"
   ]
  },
  {
   "cell_type": "code",
   "execution_count": 3,
   "id": "b7c569f8-6577-42aa-9f7b-844c357e3cd6",
   "metadata": {},
   "outputs": [],
   "source": [
    "# Display the image using OpenCV (this requires a GUI environment)\n",
    "cv2.imshow('Image', image_rgb)"
   ]
  },
  {
   "cell_type": "raw",
   "id": "6db996ee-0271-4661-b90b-e0804fbdaebb",
   "metadata": {},
   "source": [
    "importing csv file of annotations "
   ]
  },
  {
   "cell_type": "code",
   "execution_count": 4,
   "id": "f66ce570-b925-41d1-9188-47e77734f2df",
   "metadata": {},
   "outputs": [],
   "source": [
    "# Read a CSV file into a DataFrame\n",
    "df = pd.read_csv('palm/train_labels.csv')"
   ]
  },
  {
   "cell_type": "code",
   "execution_count": 6,
   "id": "2a1081fe-108d-45c4-98bf-f38cefe0635e",
   "metadata": {},
   "outputs": [
    {
     "name": "stdout",
     "output_type": "stream",
     "text": [
      "filename    ck2oh0xx2sthb0838g3pmr4ky.jpg\n",
      "width                                4000\n",
      "height                               3000\n",
      "class                                Palm\n",
      "xmin                                 1147\n",
      "ymin                                 1694\n",
      "xmax                                 1337\n",
      "ymax                                 1863\n",
      "Name: 0, dtype: object\n"
     ]
    }
   ],
   "source": [
    "# Access specific rows\n",
    "print(df.iloc[0])  # First row"
   ]
  },
  {
   "cell_type": "code",
   "execution_count": 9,
   "id": "891a8a28-51cf-4c14-b2e4-59739d379d1a",
   "metadata": {},
   "outputs": [],
   "source": [
    "x_start = df.iloc[0,4]\n",
    "x_end = df.iloc[0,6]\n",
    "y_start = df.iloc[0,5]\n",
    "y_end = df.iloc[0,7]\n",
    "cropped_image = image[y_start:y_end, x_start:x_end]\n",
    "# Display the cropped image\n",
    "cv2.imshow('Cropped Image', cropped_image)"
   ]
  },
  {
   "cell_type": "code",
   "execution_count": null,
   "id": "671369e6-d2cf-49ca-8ffc-78cc24da273d",
   "metadata": {},
   "outputs": [],
   "source": []
  }
 ],
 "metadata": {
  "kernelspec": {
   "display_name": "Python 3 (ipykernel)",
   "language": "python",
   "name": "python3"
  },
  "language_info": {
   "codemirror_mode": {
    "name": "ipython",
    "version": 3
   },
   "file_extension": ".py",
   "mimetype": "text/x-python",
   "name": "python",
   "nbconvert_exporter": "python",
   "pygments_lexer": "ipython3",
   "version": "3.12.4"
  }
 },
 "nbformat": 4,
 "nbformat_minor": 5
}
